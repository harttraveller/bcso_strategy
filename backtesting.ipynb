{
 "cells": [
  {
   "cell_type": "markdown",
   "metadata": {},
   "source": [
    "# Backtesting the Buy Close - Sell Open (BSCO) Strategy on the S&P500\n",
    "\n",
    "This strategy involves buying at close and selling at open. I think the logic behind it is that more people will buy at open and sell at close - so by going against the grain you are taking advantage of the purchase behavior of others.\n",
    "\n",
    "I will compare it to a simple buy and hold strategy over the same period of time."
   ]
  },
  {
   "cell_type": "code",
   "execution_count": 131,
   "metadata": {},
   "outputs": [],
   "source": [
    "# First loading in necessary libraries\n",
    "import pandas as pd\n",
    "import numpy as np\n",
    "import matplotlib.pyplot as plt"
   ]
  },
  {
   "cell_type": "code",
   "execution_count": 132,
   "metadata": {},
   "outputs": [],
   "source": [
    "# I am using historical data from yahoo finance going back to 1993 - as far back as the data goes\n",
    "df = pd.read_csv(\"SPY.csv\")"
   ]
  },
  {
   "cell_type": "code",
   "execution_count": 133,
   "metadata": {},
   "outputs": [],
   "source": [
    "# The only three columns needed here are the Opening price and the Closing price\n",
    "df = df[['Open','Close']]"
   ]
  },
  {
   "cell_type": "code",
   "execution_count": 240,
   "metadata": {},
   "outputs": [],
   "source": [
    "# Checking the top few rows of the DataFrame to make sure everything is in order\n",
    "df.head()\n",
    "# And creating separate dataframes so results are not confounded\n",
    "df_BCSO = df.copy()\n",
    "df_BH = df.copy()"
   ]
  },
  {
   "cell_type": "markdown",
   "metadata": {},
   "source": [
    "### Necessary functions\n",
    "There are four necessary functions - a function to buy stock, a function to sell stock, a function to test the BCSO strategy, and a function to test the buy and hold strategy."
   ]
  },
  {
   "cell_type": "code",
   "execution_count": 135,
   "metadata": {},
   "outputs": [],
   "source": [
    "# BUY STOCK FUNCTION\n",
    "# Input the stock price and the amount of capital invested\n",
    "# Returns the number of shares bought and the money spent on those shares\n",
    "\n",
    "def buy_stock(stock_price,capital):\n",
    "    num_shares = capital//stock_price\n",
    "    invested_cap = num_shares*stock_price\n",
    "    return int(num_shares),round(invested_cap,2)"
   ]
  },
  {
   "cell_type": "code",
   "execution_count": 136,
   "metadata": {},
   "outputs": [],
   "source": [
    "# SELL STOCK FUNCTION\n",
    "# Input the stock price and the number of shares sold\n",
    "# Returns the amount of money made\n",
    "\n",
    "def sell_stock(stock_price,num_shares):\n",
    "    return_cap = stock_price * num_shares\n",
    "    return return_cap\n"
   ]
  },
  {
   "cell_type": "code",
   "execution_count": 137,
   "metadata": {},
   "outputs": [],
   "source": [
    "# BCSO STRATEGY FUNCTION\n",
    "# Input the dataframe of Open/Close prices, and the amount of money initially invested\n",
    "# Returns dataframe with daily return as a third column\n",
    "\n",
    "def BCSO_strategy(df,starting_cap):\n",
    "    fund = starting_cap\n",
    "    lst = []\n",
    "    lst.append(fund)\n",
    "    for i in range(0,len(df.index)-1):\n",
    "        num_shares, investment = buy_stock(df['Close'][i],fund)\n",
    "        fund = fund - investment\n",
    "        sale = sell_stock(df['Open'][i+1],num_shares)\n",
    "        fund = fund + sale\n",
    "        lst.append(fund)\n",
    "    df['fund'] = lst\n",
    "    return df"
   ]
  },
  {
   "cell_type": "code",
   "execution_count": 138,
   "metadata": {},
   "outputs": [],
   "source": [
    "# BUY AND HOLD STRATEGY FUNCTION\n",
    "# Input the dataframe of Open/Close prices, and the amount of money initially invested\n",
    "# Returns dataframe with daily return as a third column\n",
    "\n",
    "def BUYHOLD_strategy(df,starting_cap):\n",
    "    fund = starting_cap\n",
    "    lst = []\n",
    "    lst.append(fund)\n",
    "    for i in range(0,len(df.index)-1):\n",
    "        multiplier = df['Close'][i]/df['Open'][0]\n",
    "        fund = multiplier * starting_cap\n",
    "        lst.append(fund)\n",
    "    df['fund'] = lst\n",
    "    return df"
   ]
  },
  {
   "cell_type": "code",
   "execution_count": 139,
   "metadata": {},
   "outputs": [],
   "source": [
    "# I set a starting capital - this is arbitrary - but should be large enough to trade a large number of securities\n",
    "starting_cap = 100000"
   ]
  },
  {
   "cell_type": "code",
   "execution_count": 145,
   "metadata": {},
   "outputs": [],
   "source": [
    "# Backtesting strategies\n",
    "BCSO = BCSO_strategy(df_BCSO,starting_cap)\n",
    "BUYHOLD = BUYHOLD_strategy(df_BH,starting_cap)"
   ]
  },
  {
   "cell_type": "code",
   "execution_count": 146,
   "metadata": {},
   "outputs": [],
   "source": [
    "# Combining returns\n",
    "comparison = pd.DataFrame({'BCSO':BCSO['fund'],'BUYHOLD':BUYHOLD['fund']})"
   ]
  },
  {
   "cell_type": "code",
   "execution_count": 168,
   "metadata": {},
   "outputs": [],
   "source": [
    "bh_return = int(BUYHOLD['fund'][-1:]/BUYHOLD['fund'][0]*100)\n",
    "bcso_return = int(BCSO['fund'][-1:]/BCSO['fund'][0]*100)"
   ]
  },
  {
   "cell_type": "markdown",
   "metadata": {},
   "source": [
    "# Initial Result"
   ]
  },
  {
   "cell_type": "code",
   "execution_count": 172,
   "metadata": {},
   "outputs": [
    {
     "data": {
      "text/plain": [
       "<matplotlib.axes._subplots.AxesSubplot at 0x1a418b93860>"
      ]
     },
     "execution_count": 172,
     "metadata": {},
     "output_type": "execute_result"
    },
    {
     "data": {
      "image/png": "[encoded data removed]",
      "text/plain": [
       "<Figure size 432x288 with 1 Axes>"
      ]
     },
     "metadata": {
      "needs_background": "light"
     },
     "output_type": "display_data"
    }
   ],
   "source": [
    "comparison.plot()"
   ]
  },
  {
   "cell_type": "code",
   "execution_count": 173,
   "metadata": {},
   "outputs": [
    {
     "name": "stdout",
     "output_type": "stream",
     "text": [
      "The return since 1993 with the BCSO strategy is: 811%\n",
      "The return since 1993 with the BCSO strategy is: 656%\n"
     ]
    }
   ],
   "source": [
    "print(\"The return since 1993 with the BCSO strategy is: {}%\".format(bcso_return))\n",
    "print(\"The return since 1993 with the BCSO strategy is: {}%\".format(bh_return))"
   ]
  },
  {
   "cell_type": "markdown",
   "metadata": {},
   "source": [
    "# Notes and further analysis\n",
    "While over ~45 years it appears that this strategy generates alpha - it seems to me when eyeballing the chart that the majority of the alpha was generated sometime around the 1800th day (too lazy to add date to X axis, apologies). I think a more valid test would be to generate a sequence of random trading periods - and then iterate across those testing and comparing the algorithms - before seeing how alpha is distributed. \n",
    "\n",
    "My intuition is that the alpha will be normally distributed with a mean very close to 0."
   ]
  },
  {
   "cell_type": "code",
   "execution_count": 277,
   "metadata": {},
   "outputs": [],
   "source": [
    "# This generates a list of tuples of random sets\n",
    "def random_sets(num_sets,lower_limit,upper_limit):\n",
    "    lst = []\n",
    "    for i in range(num_sets):\n",
    "        n1 = int(np.random.uniform(lower_limit,upper_limit,1))\n",
    "        n2 = int(np.random.uniform(lower_limit,upper_limit,1))\n",
    "        if n1 > n2:\n",
    "            t = (n2,n1)\n",
    "        else:\n",
    "            t = (n1,n2)\n",
    "        lst.append(t)\n",
    "    return lst"
   ]
  },
  {
   "cell_type": "code",
   "execution_count": 278,
   "metadata": {},
   "outputs": [],
   "source": [
    "# This runs the backtest agross the df as many times as necessary and returns the two lists of the differenct strategies\n",
    "def random_backtest(df, num_tests):\n",
    "    bcso_lst = []\n",
    "    bh_lst = []\n",
    "    \n",
    "    set_intervals = random_sets(num_tests,df.index[0],df.index[-1])\n",
    "    for i in range(num_tests):\n",
    "        starting_cap = 100000\n",
    "        df_BCSO = df.copy()\n",
    "        df_BH = df.copy()\n",
    "        df_BCSO = df_BCSO[set_intervals[i][0]:set_intervals[i][1]]\n",
    "        df_BCSO.reset_index(drop=True,inplace=True)\n",
    "        df_BH = df_BH[set_intervals[i][0]:set_intervals[i][1]]\n",
    "        df_BH.reset_index(drop=True,inplace=True)\n",
    "        BCSO = BCSO_strategy(df_BCSO,starting_cap)\n",
    "        BUYHOLD = BUYHOLD_strategy(df_BH,starting_cap)\n",
    "        BCSO_return = int(BCSO['fund'][-1:]/BCSO['fund'][0]*100)\n",
    "        BH_return = int(BUYHOLD['fund'][-1:]/BCSO['fund'][0]*100)\n",
    "        bcso_lst.append(BCSO_return)\n",
    "        bh_lst.append(BH_return)\n",
    "    \n",
    "    return bcso_lst, bh_lst"
   ]
  },
  {
   "cell_type": "code",
   "execution_count": null,
   "metadata": {},
   "outputs": [],
   "source": [
    "# This runs the backtest across 1000 random intervals in the SPY dataframe\n",
    "bcso_returns,bh_returns = random_backtest(df,1000)\n",
    "alphadf = pd.DataFrame({\"bcso\":bcso_returns,'bh':bh_returns})\n",
    "alphadf['alpha'] = alphadf['bcso']-alphadf['bh']"
   ]
  },
  {
   "cell_type": "code",
   "execution_count": 303,
   "metadata": {},
   "outputs": [
    {
     "data": {
      "text/plain": [
       "<matplotlib.axes._subplots.AxesSubplot at 0x1a41b60c518>"
      ]
     },
     "execution_count": 303,
     "metadata": {},
     "output_type": "execute_result"
    },
    {
     "data": {
      "image/png": "[encoded data removed]",
      "text/plain": [
       "<Figure size 432x288 with 1 Axes>"
      ]
     },
     "metadata": {
      "needs_background": "light"
     },
     "output_type": "display_data"
    }
   ],
   "source": [
    "# This is the ditribution of alpha values\n",
    "alphadf['alpha'].hist()"
   ]
  },
  {
   "cell_type": "code",
   "execution_count": 305,
   "metadata": {},
   "outputs": [
    {
     "data": {
      "text/plain": [
       "34.991"
      ]
     },
     "execution_count": 305,
     "metadata": {},
     "output_type": "execute_result"
    }
   ],
   "source": [
    "# This is the average alpha\n",
    "alphadf.mean()['alpha']"
   ]
  },
  {
   "cell_type": "markdown",
   "metadata": {},
   "source": [
    "# Damn... Cool!\n",
    "\n",
    "It looks like you can generate ~35% alpha just by buying the close and selling the open. I'll be buying long term TQQQ calls every evening and selling them in the morning from now on!!!"
   ]
  }
 ],
 "metadata": {
  "kernelspec": {
   "display_name": "Python 3",
   "language": "python",
   "name": "python3"
  },
  "language_info": {
   "codemirror_mode": {
    "name": "ipython",
    "version": 3
   },
   "file_extension": ".py",
   "mimetype": "text/x-python",
   "name": "python",
   "nbconvert_exporter": "python",
   "pygments_lexer": "ipython3",
   "version": "3.7.1"
  }
 },
 "nbformat": 4,
 "nbformat_minor": 2
}
